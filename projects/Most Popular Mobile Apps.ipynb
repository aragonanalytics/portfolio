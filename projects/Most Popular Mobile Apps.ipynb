{
 "cells": [
  {
   "cell_type": "markdown",
   "id": "df3ddc37",
   "metadata": {},
   "source": [
    "# Profiles of the Most Popular Mobile Apps\n",
    "\n",
    "Our goal with this project is to analyze which mobile apps are the most popular in the Apple App Store and Google Play markets. We work for a company that builds free apps (both Android and iOS) that generate revenue through in-app advertisements. Therefore, it is crucial that we equip our developer team with data-driven information on what apps are most appealing to users, as the number of users will directly influence our profits. "
   ]
  },
  {
   "cell_type": "markdown",
   "id": "f3774b24",
   "metadata": {},
   "source": [
    "## Step One: Opening and Exploring the Data\n",
    "\n",
    "As of November 2022, over 3.5 million apps were available on the Google Play store and over 1.6 million on the Apple App Store. ([Statista](https://www.statista.com/statistics/276623/number-of-apps-available-in-leading-app-stores/))\n",
    "\n",
    "Since collecting data from over 5 million apps is not feasible, we will analyze a sample of the data instead. There are two existing data sets that serve our purpose:\n",
    "\n",
    "1. A data set containing information from ~10,000 apps from the Google Play store. It can be downloaded [here](https://www.kaggle.com/datasets/lava18/google-play-store-apps).\n",
    "2. A data set containing information from ~7000 apps from the App Store. It can be downloaded [here](https://www.kaggle.com/datasets/ramamet4/app-store-apple-data-set-10k-apps).\n",
    "\n",
    "Our first step is to open the data sets and explore the data they contain."
   ]
  },
  {
   "cell_type": "code",
   "execution_count": 1,
   "id": "82d12c85",
   "metadata": {},
   "outputs": [],
   "source": [
    "from csv import reader\n",
    "\n",
    "### The Google Play Data Set ###\n",
    "\n",
    "opened_file = open('/Users/amyaragon/Downloads/googleplaystore.csv')\n",
    "read_file = reader(opened_file)\n",
    "googleplay = list(read_file)\n",
    "\n",
    "### The App Store Data Set ###\n",
    "\n",
    "opened_file2 = open('/Users/amyaragon/Downloads/AppleStore.csv')\n",
    "read_file2 = reader(opened_file2)\n",
    "appstore = list(read_file2)\n"
   ]
  },
  {
   "cell_type": "markdown",
   "id": "ac2e04ac",
   "metadata": {},
   "source": [
    "We will now write a function called `explore_data()` so that we can explore the rows from the data set in a more readable way, as well as view the number of rows and columns. Once we create this function, it can be used repeatedly. "
   ]
  },
  {
   "cell_type": "code",
   "execution_count": 2,
   "id": "cdb04470",
   "metadata": {},
   "outputs": [
    {
     "name": "stdout",
     "output_type": "stream",
     "text": [
      "['App', 'Category', 'Rating', 'Reviews', 'Size', 'Installs', 'Type', 'Price', 'Content Rating', 'Genres', 'Last Updated', 'Current Ver', 'Android Ver']\n",
      "\n",
      "\n",
      "['Photo Editor & Candy Camera & Grid & ScrapBook', 'ART_AND_DESIGN', '4.1', '159', '19M', '10,000+', 'Free', '0', 'Everyone', 'Art & Design', 'January 7, 2018', '1.0.0', '4.0.3 and up']\n",
      "\n",
      "\n",
      "['Coloring book moana', 'ART_AND_DESIGN', '3.9', '967', '14M', '500,000+', 'Free', '0', 'Everyone', 'Art & Design;Pretend Play', 'January 15, 2018', '2.0.0', '4.0.3 and up']\n",
      "\n",
      "\n",
      "Number of rows: 10842\n",
      "Number of columns: 13\n",
      "None\n"
     ]
    }
   ],
   "source": [
    "def explore_data(dataset, start, end, rows_and_columns=False):\n",
    "    dataset_slice = dataset[start:end]    \n",
    "    for row in dataset_slice:\n",
    "        print(row)\n",
    "        print('\\n') # adds a new (empty) line after each row\n",
    "\n",
    "    if rows_and_columns:\n",
    "        print('Number of rows:', len(dataset))\n",
    "        print('Number of columns:', len(dataset[0]))\n",
    "        \n",
    "print(explore_data(googleplay, 0, 3, True)) "
   ]
  },
  {
   "cell_type": "markdown",
   "id": "8b72e5ab",
   "metadata": {},
   "source": [
    "Using our `explore_data()` function, we can see that the Google Play data set has 10842 rows and 13 columns. Several columns may prove useful for our analysis, such as `App`, `Category`, `Reviews`, `Installs`, `Type`, `Price`, and `Genre`. \n",
    "\n",
    "Now we will explore the App Store data set."
   ]
  },
  {
   "cell_type": "code",
   "execution_count": 3,
   "id": "baba6b49",
   "metadata": {},
   "outputs": [
    {
     "name": "stdout",
     "output_type": "stream",
     "text": [
      "['id', 'track_name', 'size_bytes', 'currency', 'price', 'rating_count_tot', 'rating_count_ver', 'user_rating', 'user_rating_ver', 'ver', 'cont_rating', 'prime_genre', 'sup_devices.num', 'ipadSc_urls.num', 'lang.num', 'vpp_lic']\n",
      "\n",
      "\n",
      "['284882215', 'Facebook', '389879808', 'USD', '0.0', '2974676', '212', '3.5', '3.5', '95.0', '4+', 'Social Networking', '37', '1', '29', '1']\n",
      "\n",
      "\n",
      "['389801252', 'Instagram', '113954816', 'USD', '0.0', '2161558', '1289', '4.5', '4.0', '10.23', '12+', 'Photo & Video', '37', '0', '29', '1']\n",
      "\n",
      "\n",
      "Number of rows: 7198\n",
      "Number of columns: 16\n",
      "None\n"
     ]
    }
   ],
   "source": [
    "print(explore_data(appstore, 0, 3, True))"
   ]
  },
  {
   "cell_type": "markdown",
   "id": "91fa3d69",
   "metadata": {},
   "source": [
    " We see that there are 7198 apps in the App Store data set. Columns such as `track_name`, `currency`, `price`, `rating_count_tot`, `rating_count_ver`, and `prime_genre` may be useful for us. The column names are not as straightforward in this data set, but the [documentation](https://www.kaggle.com/datasets/ramamet4/app-store-apple-data-set-10k-apps) details what information is included in each column.  "
   ]
  },
  {
   "cell_type": "markdown",
   "id": "034b39f8",
   "metadata": {},
   "source": [
    "## Step 2: Cleaning the Data\n",
    "**Removing Incorrect Entries**"
   ]
  },
  {
   "cell_type": "markdown",
   "id": "4d564f38",
   "metadata": {},
   "source": [
    "The Google Play data set has a [discussion](https://www.kaggle.com/lava18/google-play-store-apps/discussion) section, and we found that [one of the discussions](https://www.kaggle.com/lava18/google-play-store-apps/discussion/66015) identified an error in row 10472. This user had removed their header row, which we have not done, therefore this row corresponds to row 10473 in our data set. Let's view this row and see if we can find the error. We will also print the header row so that we can see what column each piece of data corresponds to."
   ]
  },
  {
   "cell_type": "code",
   "execution_count": 4,
   "id": "26526f3d",
   "metadata": {},
   "outputs": [
    {
     "name": "stdout",
     "output_type": "stream",
     "text": [
      "['App', 'Category', 'Rating', 'Reviews', 'Size', 'Installs', 'Type', 'Price', 'Content Rating', 'Genres', 'Last Updated', 'Current Ver', 'Android Ver']\n",
      "['Life Made WI-Fi Touchscreen Photo Frame', '1.9', '19', '3.0M', '1,000+', 'Free', '0', 'Everyone', '', 'February 11, 2018', '1.0.19', '4.0 and up']\n"
     ]
    }
   ],
   "source": [
    "print(googleplay[0])\n",
    "print(googleplay[10473])"
   ]
  },
  {
   "cell_type": "markdown",
   "id": "f07e01c9",
   "metadata": {},
   "source": [
    "We can see that the app *Life Made with WI-Fi Touchscreen Photo Frame* app has a value of 19 in the 'Rating' column. This must be incorrect since the maximum app rating in the Google Play store is 5. As mentioned in the discussion thread, this error was caused by a missing value in the 'Category' column. Due to these errors, we will delete this row from our data set. The code below deletes the error row and shows the information that is now in row 10473 to confirm that it has been updated."
   ]
  },
  {
   "cell_type": "code",
   "execution_count": 5,
   "id": "dce891d5",
   "metadata": {},
   "outputs": [],
   "source": [
    "del googleplay[10473]"
   ]
  },
  {
   "cell_type": "code",
   "execution_count": 6,
   "id": "1ebade04",
   "metadata": {},
   "outputs": [
    {
     "name": "stdout",
     "output_type": "stream",
     "text": [
      "['osmino Wi-Fi: free WiFi', 'TOOLS', '4.2', '134203', '4.1M', '10,000,000+', 'Free', '0', 'Everyone', 'Tools', 'August 7, 2018', '6.06.14', '4.4 and up']\n"
     ]
    }
   ],
   "source": [
    "print(googleplay[10473])"
   ]
  },
  {
   "cell_type": "markdown",
   "id": "8416fbbd",
   "metadata": {},
   "source": [
    "**Identifying Duplicates**\n",
    "\n",
    "In the data set of Google Play apps, there are apps with duplicate entires. For example, see the duplicate entries for Instagram below:"
   ]
  },
  {
   "cell_type": "code",
   "execution_count": 7,
   "id": "be696118",
   "metadata": {},
   "outputs": [
    {
     "name": "stdout",
     "output_type": "stream",
     "text": [
      "['Instagram', 'SOCIAL', '4.5', '66577313', 'Varies with device', '1,000,000,000+', 'Free', '0', 'Teen', 'Social', 'July 31, 2018', 'Varies with device', 'Varies with device']\n",
      "['Instagram', 'SOCIAL', '4.5', '66577446', 'Varies with device', '1,000,000,000+', 'Free', '0', 'Teen', 'Social', 'July 31, 2018', 'Varies with device', 'Varies with device']\n",
      "['Instagram', 'SOCIAL', '4.5', '66577313', 'Varies with device', '1,000,000,000+', 'Free', '0', 'Teen', 'Social', 'July 31, 2018', 'Varies with device', 'Varies with device']\n",
      "['Instagram', 'SOCIAL', '4.5', '66509917', 'Varies with device', '1,000,000,000+', 'Free', '0', 'Teen', 'Social', 'July 31, 2018', 'Varies with device', 'Varies with device']\n"
     ]
    }
   ],
   "source": [
    "for app in googleplay:\n",
    "    name = app[0]\n",
    "    if name == 'Instagram':\n",
    "        print(app)"
   ]
  },
  {
   "cell_type": "markdown",
   "id": "f68a9763",
   "metadata": {},
   "source": [
    "In order to identify and remove duplicate entries, we must determine which apps are duplicated and the number of the duplicates. We will do this by creating new lists- one list for duplicates and one list for unique apps. The code below loops through the data set and adds all unique names to the list `unique_apps`, and if the name already appears in that list, it adds the name to `duplicate_apps`. Then, it prints the overall number of `duplicate_apps` using the `len()` function, as well as several examples of the duplicates that were detected."
   ]
  },
  {
   "cell_type": "code",
   "execution_count": 8,
   "id": "87e70053",
   "metadata": {},
   "outputs": [
    {
     "name": "stdout",
     "output_type": "stream",
     "text": [
      "Number of duplicate apps: 1181\n",
      "\n",
      "\n",
      "Examples of duplicate apps: ['Quick PDF Scanner + OCR FREE', 'Box', 'Google My Business', 'ZOOM Cloud Meetings', 'join.me - Simple Meetings', 'Box', 'Zenefits', 'Google Ads', 'Google My Business', 'Slack', 'FreshBooks Classic', 'Insightly CRM', 'QuickBooks Accounting: Invoicing & Expenses', 'HipChat - Chat Built for Teams', 'Xero Accounting Software']\n"
     ]
    }
   ],
   "source": [
    "duplicate_apps = []\n",
    "unique_apps = []\n",
    "\n",
    "for app in googleplay:\n",
    "    name = app[0]\n",
    "    if name in unique_apps:\n",
    "        duplicate_apps.append(name)\n",
    "    else:\n",
    "        unique_apps.append(name)\n",
    "        \n",
    "print('Number of duplicate apps:', len(duplicate_apps))\n",
    "print('\\n')\n",
    "print('Examples of duplicate apps:', (duplicate_apps[:15]))"
   ]
  },
  {
   "cell_type": "markdown",
   "id": "139174bb",
   "metadata": {},
   "source": [
    "Upon examining the data set, the duplicates differ in their number of user reviews, indicating that this data may have been extracted at different times. It stands to reason that the entries with the most user reviews are likely the most recent data and will likely contain the most accurate ratings. Therefore, instead of randomly removing duplicate entries, we will keep the entry with the most user reviews and delete the other duplicates.\n",
    "\n",
    "To do this, we will create a dictionary called `reviews_max` where each key is a unique app name and the value is the highest number of reviews of that app. We can then use this dictionary to make a new data set that has only one entry per app. "
   ]
  },
  {
   "cell_type": "code",
   "execution_count": 9,
   "id": "de247367",
   "metadata": {},
   "outputs": [],
   "source": [
    "reviews_max = {}\n",
    "\n",
    "for row in googleplay[1:]:\n",
    "    name = row[0]\n",
    "    n_reviews = float(row[3])\n",
    "    \n",
    "    if name in reviews_max and reviews_max[name] < n_reviews:\n",
    "        reviews_max[name] = n_reviews\n",
    "        \n",
    "    elif name not in reviews_max:\n",
    "        reviews_max[name] = n_reviews"
   ]
  },
  {
   "cell_type": "code",
   "execution_count": 10,
   "id": "bdfb1db5",
   "metadata": {},
   "outputs": [
    {
     "name": "stdout",
     "output_type": "stream",
     "text": [
      "9659\n"
     ]
    }
   ],
   "source": [
    "print(len(reviews_max))"
   ]
  },
  {
   "cell_type": "markdown",
   "id": "27166f17",
   "metadata": {},
   "source": [
    "The above code has identified all unique app names and kept only the duplicated app entries with the highest number of ratings. This leaves us with 9659 unique entries, which checks out because we previously identified 1181 duplicate apps out of our original total of 10842. After removing the header row, the incorrect data described previously, and the duplicates, we are now left with 9659 total entries"
   ]
  },
  {
   "cell_type": "markdown",
   "id": "6cf605ec",
   "metadata": {},
   "source": [
    "**Removing Duplicates and Updating Our Data Set**\n",
    "\n",
    "Now, we remove these duplicates and create our new data set. To do this, we will create two new lists, `googleplay_clean` and `already_added`. We will loop through the `googleplay` data set and isolate the names of the apps and number of reviews. Then we add the current row (`app`) to the `googleplay_clean` list, and the app name (`name`) to the `already_added` list if:\n",
    "\n",
    "1. The number of reviews of the current app matches the number of reviews in the `reviews_max` dictionary\n",
    "2. The name of the app is not in the `already_added` list. This additional condition will prevent any duplicate entries that have the same number of user reviews from appearing in our `googleplay_clean` list."
   ]
  },
  {
   "cell_type": "code",
   "execution_count": 11,
   "id": "3356f85a",
   "metadata": {},
   "outputs": [
    {
     "name": "stdout",
     "output_type": "stream",
     "text": [
      "['Photo Editor & Candy Camera & Grid & ScrapBook', 'ART_AND_DESIGN', '4.1', '159', '19M', '10,000+', 'Free', '0', 'Everyone', 'Art & Design', 'January 7, 2018', '1.0.0', '4.0.3 and up']\n",
      "\n",
      "\n",
      "['U Launcher Lite – FREE Live Cool Themes, Hide Apps', 'ART_AND_DESIGN', '4.7', '87510', '8.7M', '5,000,000+', 'Free', '0', 'Everyone', 'Art & Design', 'August 1, 2018', '1.2.4', '4.0.3 and up']\n",
      "\n",
      "\n",
      "['Sketch - Draw & Paint', 'ART_AND_DESIGN', '4.5', '215644', '25M', '50,000,000+', 'Free', '0', 'Teen', 'Art & Design', 'June 8, 2018', 'Varies with device', '4.2 and up']\n",
      "\n",
      "\n",
      "Number of rows: 9659\n",
      "Number of columns: 13\n"
     ]
    }
   ],
   "source": [
    "googleplay_clean = []\n",
    "already_added = []\n",
    "\n",
    "for app in googleplay[1:]:\n",
    "    name = app[0]\n",
    "    n_reviews = float(app[3])\n",
    "    \n",
    "    if (reviews_max[name] == n_reviews) and (name not in already_added):\n",
    "    \n",
    "        googleplay_clean.append(app)\n",
    "        already_added.append(name)\n",
    "        \n",
    "explore_data(googleplay_clean, 0, 3, True)"
   ]
  },
  {
   "cell_type": "markdown",
   "id": "82e5dae8",
   "metadata": {},
   "source": [
    "Using the `explore_data` function, we have confirmed that the duplicate removal process has worked as intended, leaving us with 9659 rows as expected."
   ]
  },
  {
   "cell_type": "markdown",
   "id": "45c4bb32",
   "metadata": {},
   "source": [
    "## Step 3: Removing Non-English Apps\n",
    "\n",
    "Some of the apps in both of our data sets are intended for non-English speaking users. Here are several examples:"
   ]
  },
  {
   "cell_type": "code",
   "execution_count": 12,
   "id": "5c7dae18",
   "metadata": {},
   "outputs": [
    {
     "name": "stdout",
     "output_type": "stream",
     "text": [
      "爱奇艺PPS -《欢乐颂2》电视剧热播\n",
      "【脱出ゲーム】絶対に最後までプレイしないで 〜謎解き＆ブロックパズル〜\n",
      "中国語 AQリスニング\n",
      "لعبة تقدر تربح DZ\n"
     ]
    }
   ],
   "source": [
    "print(appstore[814][1])\n",
    "print(appstore[6732][1])\n",
    "\n",
    "print(googleplay_clean[4412][0])\n",
    "print(googleplay_clean[7940][0])"
   ]
  },
  {
   "cell_type": "markdown",
   "id": "b63982cf",
   "metadata": {},
   "source": [
    "As English speakers are our target audience, so we will remove these apps from our analysis. We can do this by removing apps that contain symbols not typically used in English texts. The characters typically used in English (the English alphabet, digits 0 to 9, punctuation marks, etc.) are encoded using the ASCII standard. Each character has a corresponding number between 0 and 127 assosicated with it, so we will build a function called `is_english` that checks each app name and determines whether it contains non-ASCII characters. Inside of our function, we are using the built-in `ord()` function to see if the app name (`string`) contains characters that are outside of the ASCII range."
   ]
  },
  {
   "cell_type": "code",
   "execution_count": 13,
   "id": "febf4c0b",
   "metadata": {},
   "outputs": [],
   "source": [
    "def is_english(string):\n",
    "    \n",
    "    for character in string:\n",
    "        if ord(character) > 127:\n",
    "            return False\n",
    "        \n",
    "    return True"
   ]
  },
  {
   "cell_type": "code",
   "execution_count": 14,
   "id": "85d82bbe",
   "metadata": {},
   "outputs": [
    {
     "data": {
      "text/plain": [
       "True"
      ]
     },
     "execution_count": 14,
     "metadata": {},
     "output_type": "execute_result"
    }
   ],
   "source": [
    "is_english('Instagram')"
   ]
  },
  {
   "cell_type": "code",
   "execution_count": 15,
   "id": "91b82595",
   "metadata": {},
   "outputs": [
    {
     "data": {
      "text/plain": [
       "False"
      ]
     },
     "execution_count": 15,
     "metadata": {},
     "output_type": "execute_result"
    }
   ],
   "source": [
    "is_english('爱奇艺PPS -《欢乐颂2》电视剧热播')"
   ]
  },
  {
   "cell_type": "code",
   "execution_count": 16,
   "id": "530d2047",
   "metadata": {},
   "outputs": [
    {
     "data": {
      "text/plain": [
       "False"
      ]
     },
     "execution_count": 16,
     "metadata": {},
     "output_type": "execute_result"
    }
   ],
   "source": [
    "is_english('Docs To Go™ Free Office Suite')"
   ]
  },
  {
   "cell_type": "code",
   "execution_count": 17,
   "id": "7fb1b271",
   "metadata": {},
   "outputs": [
    {
     "data": {
      "text/plain": [
       "False"
      ]
     },
     "execution_count": 17,
     "metadata": {},
     "output_type": "execute_result"
    }
   ],
   "source": [
    "is_english('Instachat 😜')"
   ]
  },
  {
   "cell_type": "markdown",
   "id": "5253da96",
   "metadata": {},
   "source": [
    "When testing the `is_english` function above, we found that app names containing emojis or other symbols (such as ™) will be classified as non-English because they contain symbols outside of the ASCII range. This may cause us to lose useful data if there are other apps with emojis or symbols in their names. We will change the function to only remove apps if they contain more than 3 non-ASCII characters."
   ]
  },
  {
   "cell_type": "code",
   "execution_count": 18,
   "id": "16a1ed97",
   "metadata": {},
   "outputs": [
    {
     "data": {
      "text/plain": [
       "True"
      ]
     },
     "execution_count": 18,
     "metadata": {},
     "output_type": "execute_result"
    }
   ],
   "source": [
    "def is_english(string):\n",
    "    non_ascii = 0\n",
    "    \n",
    "    for character in string:\n",
    "        if ord(character) > 127:\n",
    "            non_ascii += 1\n",
    "    \n",
    "    if non_ascii > 3:\n",
    "        return False\n",
    "    \n",
    "    else:\n",
    "        return True\n",
    "    \n",
    "is_english('Docs To Go™ Free Office Suite')\n",
    "is_english('Instachat 😜')"
   ]
  },
  {
   "cell_type": "markdown",
   "id": "7c2ca416",
   "metadata": {},
   "source": [
    "We now see that the English apps that were previously filtered out due to emojis or symbols are now returning `True`, meaning that they are considered English. It is still possible that a few non-English apps may get past this filter, but this is likely good enough for purposes of our analysis.\n",
    "\n",
    "Now, we will use our `in_english` function to create new lists (`googleplay_english` and `appstore_english`) that include only the English apps as identified by our function. "
   ]
  },
  {
   "cell_type": "code",
   "execution_count": 19,
   "id": "1ec4561c",
   "metadata": {},
   "outputs": [
    {
     "name": "stdout",
     "output_type": "stream",
     "text": [
      "['U Launcher Lite – FREE Live Cool Themes, Hide Apps', 'ART_AND_DESIGN', '4.7', '87510', '8.7M', '5,000,000+', 'Free', '0', 'Everyone', 'Art & Design', 'August 1, 2018', '1.2.4', '4.0.3 and up']\n",
      "\n",
      "\n",
      "['Sketch - Draw & Paint', 'ART_AND_DESIGN', '4.5', '215644', '25M', '50,000,000+', 'Free', '0', 'Teen', 'Art & Design', 'June 8, 2018', 'Varies with device', '4.2 and up']\n",
      "\n",
      "\n",
      "['Pixel Draw - Number Art Coloring Book', 'ART_AND_DESIGN', '4.3', '967', '2.8M', '100,000+', 'Free', '0', 'Everyone', 'Art & Design;Creativity', 'June 20, 2018', '1.1', '4.4 and up']\n",
      "\n",
      "\n",
      "Number of rows: 9613\n",
      "Number of columns: 13\n",
      "\n",
      "\n",
      "['284882215', 'Facebook', '389879808', 'USD', '0.0', '2974676', '212', '3.5', '3.5', '95.0', '4+', 'Social Networking', '37', '1', '29', '1']\n",
      "\n",
      "\n",
      "['389801252', 'Instagram', '113954816', 'USD', '0.0', '2161558', '1289', '4.5', '4.0', '10.23', '12+', 'Photo & Video', '37', '0', '29', '1']\n",
      "\n",
      "\n",
      "['529479190', 'Clash of Clans', '116476928', 'USD', '0.0', '2130805', '579', '4.5', '4.5', '9.24.12', '9+', 'Games', '38', '5', '18', '1']\n",
      "\n",
      "\n",
      "Number of rows: 6183\n",
      "Number of columns: 16\n"
     ]
    }
   ],
   "source": [
    "googleplay_english = []\n",
    "appstore_english = []\n",
    "\n",
    "for app in googleplay_clean[1:]: \n",
    "    name = app[0]\n",
    "    if is_english(name):\n",
    "        googleplay_english.append(app)\n",
    "        \n",
    "for app in appstore[1:]:\n",
    "    name = app[1]\n",
    "    if is_english(name):\n",
    "        appstore_english.append(app)\n",
    "\n",
    "explore_data(googleplay_english, 0, 3, True)\n",
    "print('\\n')\n",
    "explore_data(appstore_english, 0, 3, True)"
   ]
  },
  {
   "cell_type": "markdown",
   "id": "3ac616ed",
   "metadata": {},
   "source": [
    "We are left with 9613 English apps in the Google Play Store and 6183 in the App Store."
   ]
  },
  {
   "cell_type": "markdown",
   "id": "b2fa122a",
   "metadata": {},
   "source": [
    "## Step Four: Identifying Free Apps"
   ]
  },
  {
   "cell_type": "markdown",
   "id": "79cb0b10",
   "metadata": {},
   "source": [
    "As mentioned in the introduction, our company builds free apps that utilize in-app advertisements. Therefore, we want to isolate only free apps in our analysis. The current data sets include both free and paid apps, so we will need to identify and separate out the unpaid apps. The code below creates two new lists `googleplayfinal` and `appstorefinal` that contain only the English language apps with a price of 0.00. "
   ]
  },
  {
   "cell_type": "code",
   "execution_count": 20,
   "id": "5578556d",
   "metadata": {},
   "outputs": [],
   "source": [
    "googleplayfinal = []\n",
    "appstorefinal = []\n",
    "\n",
    "for app in googleplay_english:\n",
    "    price = app[7]\n",
    "    if price == '0':\n",
    "        googleplayfinal.append(app)\n",
    "        \n",
    "for app in appstore_english:\n",
    "    price = app[4]\n",
    "    if price == '0.0':\n",
    "        appstorefinal.append(app)\n",
    "    "
   ]
  },
  {
   "cell_type": "code",
   "execution_count": 21,
   "id": "199176ea",
   "metadata": {},
   "outputs": [
    {
     "name": "stdout",
     "output_type": "stream",
     "text": [
      "8863\n",
      "3222\n"
     ]
    }
   ],
   "source": [
    "print(len(googleplayfinal))\n",
    "print(len(appstorefinal))"
   ]
  },
  {
   "cell_type": "markdown",
   "id": "80726eab",
   "metadata": {},
   "source": [
    "We are now left with 8863 Google Play apps and 3222 App Store apps, which is enough for our analysis."
   ]
  },
  {
   "cell_type": "markdown",
   "id": "eb0375bd",
   "metadata": {},
   "source": [
    "## Step Five: Most Common App Types"
   ]
  },
  {
   "cell_type": "markdown",
   "id": "b7e957a3",
   "metadata": {},
   "source": [
    "The aim of this analysis is to determine what types of free apps are likely to attract the most users. To minimize risk and overhead, this is our validation strategy for app ideas:\n",
    "\n",
    "1. Build a minimal Android version of the app and add to Google Play.\n",
    "2. If the app generates a positive response from users, develop it further and add features.\n",
    "3. If the app is profitable after 6 months, build an iOS version and add it to the App Store.\n",
    "\n",
    "Since the end goal is for the app to appear in both Google Play and the App Store, we want to investigate what app profiles are successful on both markets. \n",
    "\n",
    "First, we can determine what the most common genres are on each market. We will build a frequency table for the `prime_genre` column in the App Store data set, and the `Genres` and `Category` columns in the Google Play data set."
   ]
  },
  {
   "cell_type": "code",
   "execution_count": 22,
   "id": "b04e0336",
   "metadata": {},
   "outputs": [],
   "source": [
    "def freq_table(dataset, index):\n",
    "    table = {}\n",
    "    total = 0\n",
    "    \n",
    "    for row in dataset:\n",
    "        total += 1 \n",
    "        value = row[index]\n",
    "        if value in table:\n",
    "            table[value] += 1\n",
    "        else: \n",
    "            table[value] = 1\n",
    "            \n",
    "    table_percentages = {}\n",
    "    for key in table:\n",
    "        percentage = (table[key] / total) * 100\n",
    "        table_percentages[key] = percentage\n",
    "        \n",
    "    return table_percentages\n",
    "\n",
    "def display_table(dataset, index):\n",
    "    table = freq_table(dataset, index)\n",
    "    table_display = []\n",
    "    for key in table:\n",
    "        key_val_as_tuple = (table[key], key)\n",
    "        table_display.append(key_val_as_tuple)\n",
    "\n",
    "    table_sorted = sorted(table_display, reverse = True)\n",
    "    for entry in table_sorted:\n",
    "        print(entry[1], ':', entry[0])"
   ]
  },
  {
   "cell_type": "code",
   "execution_count": 23,
   "id": "efb503b4",
   "metadata": {},
   "outputs": [
    {
     "name": "stdout",
     "output_type": "stream",
     "text": [
      "Games : 58.16263190564867\n",
      "Entertainment : 7.883302296710118\n",
      "Photo & Video : 4.9658597144630665\n",
      "Education : 3.662321539416512\n",
      "Social Networking : 3.2898820608317814\n",
      "Shopping : 2.60707635009311\n",
      "Utilities : 2.5139664804469275\n",
      "Sports : 2.1415270018621975\n",
      "Music : 2.0484171322160147\n",
      "Health & Fitness : 2.0173805090006205\n",
      "Productivity : 1.7380509000620732\n",
      "Lifestyle : 1.5828677839851024\n",
      "News : 1.3345747982619491\n",
      "Travel : 1.2414649286157666\n",
      "Finance : 1.1173184357541899\n",
      "Weather : 0.8690254500310366\n",
      "Food & Drink : 0.8069522036002483\n",
      "Reference : 0.5586592178770949\n",
      "Business : 0.5276225946617008\n",
      "Book : 0.4345127250155183\n",
      "Navigation : 0.186219739292365\n",
      "Medical : 0.186219739292365\n",
      "Catalogs : 0.12414649286157665\n"
     ]
    }
   ],
   "source": [
    "display_table(appstorefinal, 11)\n"
   ]
  },
  {
   "cell_type": "markdown",
   "id": "0dd03321",
   "metadata": {},
   "source": [
    "As we can see in the frequency table above, Games is by far the most common genre in our data set, comprising 58.16% of free English apps. The second most common genre is Entertainment with nearly 8%, followed by Photo & Video with 5%. Education and Social Networking make up 3.66% and 2.29%, respectively.\n",
    "\n",
    "Overall, the App Store's unpaid English apps are primarily for gaming and entertainment purposes, while apps intended for productivity, shopping, education, etc. are not as represented. However, this does not necessarily mean that the number of users for gaming and entertainment apps is greater, it simply shows that there are fewer offerings for pratical apps. "
   ]
  },
  {
   "cell_type": "code",
   "execution_count": 24,
   "id": "5c8f2119",
   "metadata": {},
   "outputs": [
    {
     "name": "stdout",
     "output_type": "stream",
     "text": [
      "FAMILY : 18.910075595170937\n",
      "GAME : 9.725826469592688\n",
      "TOOLS : 8.462146000225657\n",
      "BUSINESS : 4.592124562789123\n",
      "LIFESTYLE : 3.9038700214374367\n",
      "PRODUCTIVITY : 3.8925871601038025\n",
      "FINANCE : 3.7007785174320205\n",
      "MEDICAL : 3.5315355974275078\n",
      "SPORTS : 3.396141261423897\n",
      "PERSONALIZATION : 3.317161232088458\n",
      "COMMUNICATION : 3.2381812027530184\n",
      "HEALTH_AND_FITNESS : 3.0802211440821394\n",
      "PHOTOGRAPHY : 2.944826808078529\n",
      "NEWS_AND_MAGAZINES : 2.798149610741284\n",
      "SOCIAL : 2.6627552747376737\n",
      "TRAVEL_AND_LOCAL : 2.335552296062281\n",
      "SHOPPING : 2.245289405393208\n",
      "BOOKS_AND_REFERENCE : 2.1437436533904997\n",
      "DATING : 1.8616721200496444\n",
      "VIDEO_PLAYERS : 1.7939749520478394\n",
      "MAPS_AND_NAVIGATION : 1.399074805370642\n",
      "FOOD_AND_DRINK : 1.241114746699763\n",
      "EDUCATION : 1.1621347173643235\n",
      "ENTERTAINMENT : 0.9590432133589079\n",
      "LIBRARIES_AND_DEMO : 0.9364774906916393\n",
      "AUTO_AND_VEHICLES : 0.9251946293580051\n",
      "HOUSE_AND_HOME : 0.8236488773552973\n",
      "WEATHER : 0.8010831546880289\n",
      "EVENTS : 0.7108202640189552\n",
      "PARENTING : 0.6544059573507841\n",
      "ART_AND_DESIGN : 0.6318402346835158\n",
      "COMICS : 0.6205573733498815\n",
      "BEAUTY : 0.5979916506826132\n"
     ]
    }
   ],
   "source": [
    "display_table(googleplayfinal, 1) ### Category Column"
   ]
  },
  {
   "cell_type": "markdown",
   "id": "7024d85c",
   "metadata": {},
   "source": [
    "In the frequency table above, we have examined the `Category` column from our Google Play data set. We see here that the Family category is the most common type of app at nearly 19%, followed by Games at 9.73%, and Tools at 8.46%. "
   ]
  },
  {
   "cell_type": "code",
   "execution_count": 25,
   "id": "20db8359",
   "metadata": {},
   "outputs": [
    {
     "name": "stdout",
     "output_type": "stream",
     "text": [
      "Tools : 8.450863138892023\n",
      "Entertainment : 6.070179397495204\n",
      "Education : 5.348076272142616\n",
      "Business : 4.592124562789123\n",
      "Productivity : 3.8925871601038025\n",
      "Lifestyle : 3.8925871601038025\n",
      "Finance : 3.7007785174320205\n",
      "Medical : 3.5315355974275078\n",
      "Sports : 3.463838429425702\n",
      "Personalization : 3.317161232088458\n",
      "Communication : 3.2381812027530184\n",
      "Action : 3.102786866749408\n",
      "Health & Fitness : 3.0802211440821394\n",
      "Photography : 2.944826808078529\n",
      "News & Magazines : 2.798149610741284\n",
      "Social : 2.6627552747376737\n",
      "Travel & Local : 2.324269434728647\n",
      "Shopping : 2.245289405393208\n",
      "Books & Reference : 2.1437436533904997\n",
      "Simulation : 2.042197901387792\n",
      "Dating : 1.8616721200496444\n",
      "Arcade : 1.8503892587160102\n",
      "Video Players & Editors : 1.771409229380571\n",
      "Casual : 1.7601263680469368\n",
      "Maps & Navigation : 1.399074805370642\n",
      "Food & Drink : 1.241114746699763\n",
      "Puzzle : 1.128286133363421\n",
      "Racing : 0.9928917973598104\n",
      "Role Playing : 0.9364774906916393\n",
      "Libraries & Demo : 0.9364774906916393\n",
      "Auto & Vehicles : 0.9251946293580051\n",
      "Strategy : 0.9139117680243709\n",
      "House & Home : 0.8236488773552973\n",
      "Weather : 0.8010831546880289\n",
      "Events : 0.7108202640189552\n",
      "Adventure : 0.6769716800180525\n",
      "Comics : 0.6092745120162473\n",
      "Beauty : 0.5979916506826132\n",
      "Art & Design : 0.5867087893489789\n",
      "Parenting : 0.4964458986799052\n",
      "Card : 0.4513144533453684\n",
      "Casino : 0.42874873067809993\n",
      "Trivia : 0.4174658693444658\n",
      "Educational;Education : 0.3949001466771973\n",
      "Board : 0.38361728534356315\n",
      "Educational : 0.37233442400992894\n",
      "Education;Education : 0.33848584000902626\n",
      "Word : 0.25950581067358686\n",
      "Casual;Pretend Play : 0.2369400880063184\n",
      "Music : 0.20309150400541578\n",
      "Racing;Action & Adventure : 0.16924292000451313\n",
      "Puzzle;Brain Games : 0.16924292000451313\n",
      "Entertainment;Music & Video : 0.16924292000451313\n",
      "Casual;Brain Games : 0.1353943360036105\n",
      "Casual;Action & Adventure : 0.1353943360036105\n",
      "Arcade;Action & Adventure : 0.1241114746699763\n",
      "Action;Action & Adventure : 0.10154575200270789\n",
      "Educational;Pretend Play : 0.09026289066907367\n",
      "Simulation;Action & Adventure : 0.07898002933543948\n",
      "Parenting;Education : 0.07898002933543948\n",
      "Entertainment;Brain Games : 0.07898002933543948\n",
      "Board;Brain Games : 0.07898002933543948\n",
      "Parenting;Music & Video : 0.06769716800180525\n",
      "Educational;Brain Games : 0.06769716800180525\n",
      "Casual;Creativity : 0.06769716800180525\n",
      "Art & Design;Creativity : 0.06769716800180525\n",
      "Education;Pretend Play : 0.05641430666817105\n",
      "Role Playing;Pretend Play : 0.045131445334536835\n",
      "Education;Creativity : 0.045131445334536835\n",
      "Role Playing;Action & Adventure : 0.033848584000902626\n",
      "Puzzle;Action & Adventure : 0.033848584000902626\n",
      "Entertainment;Creativity : 0.033848584000902626\n",
      "Entertainment;Action & Adventure : 0.033848584000902626\n",
      "Educational;Creativity : 0.033848584000902626\n",
      "Educational;Action & Adventure : 0.033848584000902626\n",
      "Education;Music & Video : 0.033848584000902626\n",
      "Education;Brain Games : 0.033848584000902626\n",
      "Education;Action & Adventure : 0.033848584000902626\n",
      "Adventure;Action & Adventure : 0.033848584000902626\n",
      "Video Players & Editors;Music & Video : 0.022565722667268417\n",
      "Sports;Action & Adventure : 0.022565722667268417\n",
      "Simulation;Pretend Play : 0.022565722667268417\n",
      "Puzzle;Creativity : 0.022565722667268417\n",
      "Music;Music & Video : 0.022565722667268417\n",
      "Entertainment;Pretend Play : 0.022565722667268417\n",
      "Casual;Education : 0.022565722667268417\n",
      "Board;Action & Adventure : 0.022565722667268417\n",
      "Video Players & Editors;Creativity : 0.011282861333634209\n",
      "Trivia;Education : 0.011282861333634209\n",
      "Travel & Local;Action & Adventure : 0.011282861333634209\n",
      "Tools;Education : 0.011282861333634209\n",
      "Strategy;Education : 0.011282861333634209\n",
      "Strategy;Creativity : 0.011282861333634209\n",
      "Strategy;Action & Adventure : 0.011282861333634209\n",
      "Simulation;Education : 0.011282861333634209\n",
      "Role Playing;Brain Games : 0.011282861333634209\n",
      "Racing;Pretend Play : 0.011282861333634209\n",
      "Puzzle;Education : 0.011282861333634209\n",
      "Parenting;Brain Games : 0.011282861333634209\n",
      "Music & Audio;Music & Video : 0.011282861333634209\n",
      "Lifestyle;Pretend Play : 0.011282861333634209\n",
      "Lifestyle;Education : 0.011282861333634209\n",
      "Health & Fitness;Education : 0.011282861333634209\n",
      "Health & Fitness;Action & Adventure : 0.011282861333634209\n",
      "Entertainment;Education : 0.011282861333634209\n",
      "Communication;Creativity : 0.011282861333634209\n",
      "Comics;Creativity : 0.011282861333634209\n",
      "Casual;Music & Video : 0.011282861333634209\n",
      "Card;Action & Adventure : 0.011282861333634209\n",
      "Books & Reference;Education : 0.011282861333634209\n",
      "Art & Design;Pretend Play : 0.011282861333634209\n",
      "Art & Design;Action & Adventure : 0.011282861333634209\n",
      "Arcade;Pretend Play : 0.011282861333634209\n",
      "Adventure;Education : 0.011282861333634209\n"
     ]
    }
   ],
   "source": [
    "display_table(googleplayfinal, 9) ### Genre Column"
   ]
  },
  {
   "cell_type": "markdown",
   "id": "edcfbde8",
   "metadata": {},
   "source": [
    "This final frequency table examines the `Genre` column from our Google Play data set and reveals that Tools is the most common genre at 8.45%, followed by Entertainment at ~6%, and Education at 5.34%. There seems to be a greater number of apps intended for pratical purposes (tools, business, education, etc.) represented in the Google Play market versus what we found in the App Store data. \n",
    "\n",
    "However, this information still does not tell us which genres bring in the most users. We have simply determined the most common types of apps in both markets.\n",
    "\n",
    "Going forward, we will use the `Category` column when analyzing Google Play data, as this contains fewer elements and we are primarily looking for information representing the big picture."
   ]
  },
  {
   "cell_type": "markdown",
   "id": "2c2e3291",
   "metadata": {},
   "source": [
    "# Step Six: Most Popular App Types\n",
    "**App Store**"
   ]
  },
  {
   "cell_type": "markdown",
   "id": "1d2cb2e4",
   "metadata": {},
   "source": [
    "Now that we have identified the most commonly represented genres, we are now interested in how many users these various app types attract. The App Store data set does not include the number of installs, so we will use the number of user ratings to give us an idea of each app's popularity. In the code below, we loop through the data set and create a frequency table that determines the average number of user ratings in each genre. "
   ]
  },
  {
   "cell_type": "code",
   "execution_count": 26,
   "id": "2c5df601",
   "metadata": {},
   "outputs": [
    {
     "name": "stdout",
     "output_type": "stream",
     "text": [
      "Social Networking : 71548.34905660378\n",
      "Photo & Video : 28441.54375\n",
      "Games : 22788.6696905016\n",
      "Music : 57326.530303030304\n",
      "Reference : 74942.11111111111\n",
      "Health & Fitness : 23298.015384615384\n",
      "Weather : 52279.892857142855\n",
      "Utilities : 18684.456790123455\n",
      "Travel : 28243.8\n",
      "Shopping : 26919.690476190477\n",
      "News : 21248.023255813954\n",
      "Navigation : 86090.33333333333\n",
      "Lifestyle : 16485.764705882353\n",
      "Entertainment : 14029.830708661417\n",
      "Food & Drink : 33333.92307692308\n",
      "Sports : 23008.898550724636\n",
      "Book : 39758.5\n",
      "Finance : 31467.944444444445\n",
      "Education : 7003.983050847458\n",
      "Productivity : 21028.410714285714\n",
      "Business : 7491.117647058823\n",
      "Catalogs : 4004.0\n",
      "Medical : 612.0\n"
     ]
    }
   ],
   "source": [
    "appstoregenres = freq_table(appstorefinal, 11)\n",
    "\n",
    "for genre in appstoregenres:\n",
    "    total = 0\n",
    "    len_genre = 0\n",
    "    for app in appstorefinal:\n",
    "        genre_app = app[11]\n",
    "        if genre_app == genre:\n",
    "            n_ratings = float(app[5])\n",
    "            total += n_ratings\n",
    "            len_genre += 1\n",
    "            \n",
    "    avg_n_ratings = total / len_genre\n",
    "    print(genre, ':', avg_n_ratings)"
   ]
  },
  {
   "cell_type": "markdown",
   "id": "c917c8ff",
   "metadata": {},
   "source": [
    "Navigation apps are the most reviewed genre, followed by Reference, Social Networking, and Music apps. Based on this information, we can see that while games are the most common type of app in the App Store, more pratical apps are the most reviewed, which means they are likely the apps with the most users. However, these numbers are potentially skewed by apps with large numbers of users, such as Facebook and Pinterest in the Social Networking genre. For instance, we can see that Waze and Google Maps have brought in very large numbers of user ratings compared to other navigation apps."
   ]
  },
  {
   "cell_type": "code",
   "execution_count": 27,
   "id": "7bf4c53a",
   "metadata": {},
   "outputs": [
    {
     "name": "stdout",
     "output_type": "stream",
     "text": [
      "Waze - GPS Navigation, Maps & Real-time Traffic : 345046\n",
      "Google Maps - Navigation & Transit : 154911\n",
      "Geocaching® : 12811\n",
      "CoPilot GPS – Car Navigation & Offline Maps : 3582\n",
      "ImmobilienScout24: Real Estate Search in Germany : 187\n",
      "Railway Route Search : 5\n"
     ]
    }
   ],
   "source": [
    "for app in appstorefinal:\n",
    "    if app[-5] == 'Navigation':\n",
    "        print(app[1], ':', app[5]) # print name and number of ratings"
   ]
  },
  {
   "cell_type": "markdown",
   "id": "00427740",
   "metadata": {},
   "source": [
    "We see a similar trend in the Reference apps, with the Bible app at nearly 1 million user ratings, skewing the overall average. "
   ]
  },
  {
   "cell_type": "code",
   "execution_count": 28,
   "id": "acf028de",
   "metadata": {},
   "outputs": [
    {
     "name": "stdout",
     "output_type": "stream",
     "text": [
      "Bible : 985920\n",
      "Dictionary.com Dictionary & Thesaurus : 200047\n",
      "Dictionary.com Dictionary & Thesaurus for iPad : 54175\n",
      "Google Translate : 26786\n",
      "Muslim Pro: Ramadan 2017 Prayer Times, Azan, Quran : 18418\n",
      "New Furniture Mods - Pocket Wiki & Game Tools for Minecraft PC Edition : 17588\n",
      "Merriam-Webster Dictionary : 16849\n",
      "Night Sky : 12122\n",
      "City Maps for Minecraft PE - The Best Maps for Minecraft Pocket Edition (MCPE) : 8535\n",
      "LUCKY BLOCK MOD ™ for Minecraft PC Edition - The Best Pocket Wiki & Mods Installer Tools : 4693\n",
      "GUNS MODS for Minecraft PC Edition - Mods Tools : 1497\n",
      "Guides for Pokémon GO - Pokemon GO News and Cheats : 826\n",
      "WWDC : 762\n",
      "Horror Maps for Minecraft PE - Download The Scariest Maps for Minecraft Pocket Edition (MCPE) Free : 718\n",
      "VPN Express : 14\n",
      "Real Bike Traffic Rider Virtual Reality Glasses : 8\n",
      "教えて!goo : 0\n",
      "Jishokun-Japanese English Dictionary & Translator : 0\n"
     ]
    }
   ],
   "source": [
    "for app in appstorefinal:\n",
    "    if app[-5] == 'Reference':\n",
    "        print(app[1], ':', app[5]) # print name and number of ratings"
   ]
  },
  {
   "cell_type": "markdown",
   "id": "0819752b",
   "metadata": {},
   "source": [
    "Due to the abundance of free gaming apps that we found previously, it is possible that a pratical app (such as Reference, Book, or Productivity genres), could attract more users. The App Store is oversatuated with gaming and entertainment apps compared to the Google Play market, but the number of user reviews in the practical categories is promising. For instance, the Book genre averages 39758 user ratings and Productivity has an average of 21028. Since we are using in-app advertisements to generate revenue, we would want users to spend time in the app. An app in the Weather, Finance, or Food & Drink genres would likely not keep users in the app for a long enough time since these are apps that users visit for a short time to fulfull a specific purpose (check the forecast, order a drink, transfer money, etc.). \n",
    "\n",
    "Perhaps an app that overlaps into several practical genres would prove successful, such as a scheduling app that combines elements from Productivity, Weather, Lifestyle, Health & Fitness, and Entertainment. For instance, a scheduling app could appear in the Productivity genre but allow users to track their habits, receive book and movie recommendations based on their preferences, and provide recommendations based on today's weather. Maybe they have a break in their schedule, it's sunny out, and the app can recommend taking a walk outdoors. It can remind users to drink water throughout the workday, and then recommend a book to read or movie to watch in the evening based on the likes/dislikes they've set in their profiles.\n",
    "\n",
    "Overall, apps that target users' practical needs may stand out on the App Store. "
   ]
  },
  {
   "cell_type": "markdown",
   "id": "c3da4bfa",
   "metadata": {},
   "source": [
    "**Google Play**"
   ]
  },
  {
   "cell_type": "code",
   "execution_count": 29,
   "id": "70040323",
   "metadata": {},
   "outputs": [
    {
     "data": {
      "text/plain": [
       "{'5,000,000+': 6.826131106848697,\n",
       " '50,000,000+': 2.3017037120613786,\n",
       " '100,000+': 11.55365000564143,\n",
       " '50,000+': 4.772650344127271,\n",
       " '1,000,000+': 15.728308699086089,\n",
       " '10,000+': 10.188423784271691,\n",
       " '10,000,000+': 10.549475346947986,\n",
       " '5,000+': 4.513144533453684,\n",
       " '500,000+': 5.562450637481666,\n",
       " '1,000,000,000+': 0.2256572266726842,\n",
       " '100,000,000+': 2.1324607920568655,\n",
       " '1,000+': 8.394448832223853,\n",
       " '500,000,000+': 0.270788672007221,\n",
       " '500+': 3.2494640640866526,\n",
       " '100+': 6.916393997517771,\n",
       " '50+': 1.9180864267178157,\n",
       " '10+': 3.542818458761142,\n",
       " '1+': 0.5077287600135394,\n",
       " '5+': 0.7898002933543946,\n",
       " '0+': 0.045131445334536835,\n",
       " '0': 0.011282861333634209}"
      ]
     },
     "execution_count": 29,
     "metadata": {},
     "output_type": "execute_result"
    }
   ],
   "source": [
    "freq_table(googleplayfinal, 5)"
   ]
  },
  {
   "cell_type": "code",
   "execution_count": 30,
   "id": "2062aa5f",
   "metadata": {
    "scrolled": true
   },
   "outputs": [
    {
     "name": "stdout",
     "output_type": "stream",
     "text": [
      "ART_AND_DESIGN : 2021626.7857142857\n",
      "AUTO_AND_VEHICLES : 647317.8170731707\n",
      "BEAUTY : 513151.88679245283\n",
      "BOOKS_AND_REFERENCE : 8767811.894736841\n",
      "BUSINESS : 1712290.1474201474\n",
      "COMICS : 817657.2727272727\n",
      "COMMUNICATION : 38456119.167247385\n",
      "DATING : 854028.8303030303\n",
      "EDUCATION : 1833495.145631068\n",
      "ENTERTAINMENT : 11640705.88235294\n",
      "EVENTS : 253542.22222222222\n",
      "FINANCE : 1387692.475609756\n",
      "FOOD_AND_DRINK : 1924897.7363636363\n",
      "HEALTH_AND_FITNESS : 4188821.9853479853\n",
      "HOUSE_AND_HOME : 1331540.5616438356\n",
      "LIBRARIES_AND_DEMO : 638503.734939759\n",
      "LIFESTYLE : 1437816.2687861272\n",
      "GAME : 15588015.603248259\n",
      "FAMILY : 3695641.8198090694\n",
      "MEDICAL : 120550.61980830671\n",
      "SOCIAL : 23253652.127118643\n",
      "SHOPPING : 7036877.311557789\n",
      "PHOTOGRAPHY : 17840110.40229885\n",
      "SPORTS : 3638640.1428571427\n",
      "TRAVEL_AND_LOCAL : 13984077.710144928\n",
      "TOOLS : 10801391.298666667\n",
      "PERSONALIZATION : 5201482.6122448975\n",
      "PRODUCTIVITY : 16787331.344927534\n",
      "PARENTING : 542603.6206896552\n",
      "WEATHER : 5074486.197183099\n",
      "VIDEO_PLAYERS : 24727872.452830188\n",
      "NEWS_AND_MAGAZINES : 9549178.467741935\n",
      "MAPS_AND_NAVIGATION : 4056941.7741935486\n"
     ]
    }
   ],
   "source": [
    "categoriesgoogleplay = freq_table(googleplayfinal, 1)\n",
    "\n",
    "for category in categoriesgoogleplay:\n",
    "    total = 0\n",
    "    len_category = 0\n",
    "    for app in googleplayfinal:\n",
    "        category_app = app[1]\n",
    "        if category_app == category:\n",
    "            n_installs = app[5]\n",
    "            n_installs = n_installs.replace(',', '')\n",
    "            n_installs = n_installs.replace('+', '')\n",
    "            total += float(n_installs)\n",
    "            len_category += 1\n",
    "    avg_n_installs = total / len_category\n",
    "    print(category, ':', avg_n_installs)"
   ]
  },
  {
   "cell_type": "markdown",
   "id": "e101bd78",
   "metadata": {},
   "source": [
    "In our Google Play table above, Communication apps have the most installs on average: 38,456,119. The Video Players category is in second place with over 24 million installs. Similar to the App Store, these categories are skewed by apps such as Facebook and Youtube. It would be difficult to compete with these well-established and extremely popular social media or video player apps. \n",
    "\n",
    "If we explore the Productivity cateogry, we see that Productivity apps have over 16 million installs on average.  In the code below, we have identified Productivity apps with over 1 billion, over 500 million, and over 100 million installations to see if there are any apps skewing the average. In the table below, it is clear that the Microsoft Office and G Suite apps greatly contribute to this number."
   ]
  },
  {
   "cell_type": "code",
   "execution_count": 31,
   "id": "c08678b5",
   "metadata": {},
   "outputs": [
    {
     "name": "stdout",
     "output_type": "stream",
     "text": [
      "Microsoft Word : 500,000,000+\n",
      "Microsoft Outlook : 100,000,000+\n",
      "Microsoft OneDrive : 100,000,000+\n",
      "Microsoft OneNote : 100,000,000+\n",
      "Google Keep : 100,000,000+\n",
      "ES File Explorer File Manager : 100,000,000+\n",
      "Dropbox : 500,000,000+\n",
      "Google Docs : 100,000,000+\n",
      "Microsoft PowerPoint : 100,000,000+\n",
      "Samsung Notes : 100,000,000+\n",
      "SwiftKey Keyboard : 100,000,000+\n",
      "Google Drive : 1,000,000,000+\n",
      "Adobe Acrobat Reader : 100,000,000+\n",
      "Google Sheets : 100,000,000+\n",
      "Microsoft Excel : 100,000,000+\n",
      "WPS Office - Word, Docs, PDF, Note, Slide & Sheet : 100,000,000+\n",
      "Google Slides : 100,000,000+\n",
      "ColorNote Notepad Notes : 100,000,000+\n",
      "Evernote – Organizer, Planner for Notes & Memos : 100,000,000+\n",
      "Google Calendar : 500,000,000+\n",
      "Cloud Print : 500,000,000+\n",
      "CamScanner - Phone PDF Creator : 100,000,000+\n"
     ]
    }
   ],
   "source": [
    "for app in googleplayfinal:\n",
    "    if app[1] == 'PRODUCTIVITY' and (app[5] == '1,000,000,000+'\n",
    "                                      or app[5] == '500,000,000+'\n",
    "                                      or app[5] == '100,000,000+'):\n",
    "        print(app[0], ':', app[5])"
   ]
  },
  {
   "cell_type": "code",
   "execution_count": 32,
   "id": "edb17837",
   "metadata": {},
   "outputs": [
    {
     "name": "stdout",
     "output_type": "stream",
     "text": [
      "Average installs for Productivity apps under 100 million: 3379657.318885449\n"
     ]
    }
   ],
   "source": [
    "under_100_m = []\n",
    "\n",
    "for app in googleplayfinal:\n",
    "    n_installs = app[5]\n",
    "    n_installs = n_installs.replace(',', '')\n",
    "    n_installs = n_installs.replace('+', '')\n",
    "    if (app[1] == 'PRODUCTIVITY') and (float(n_installs) < 100000000):\n",
    "        under_100_m.append(float(n_installs))\n",
    "        \n",
    "print('Average installs for Productivity apps under 100 million:', sum(under_100_m) / len(under_100_m))"
   ]
  },
  {
   "cell_type": "markdown",
   "id": "cadc3721",
   "metadata": {},
   "source": [
    "When we remove apps with over 100 million installs, we can see that the average number of installs for Productivity apps is ~3.4 million. This number is still quite competitive with other app genres; for instance, Health and Fitness apps show around 4 million installations on average. We believe a productivity app that offers practical and unique features, such as the scheduling app idea we discussed based on the App Store data, would attract users in the Google Play store as well."
   ]
  },
  {
   "cell_type": "markdown",
   "id": "073762da",
   "metadata": {},
   "source": [
    "# Conclusions\n",
    "\n",
    "Based on our analysis of the most popular apps from the App Store and Google Play store, we concluded that creating a productivity app that includes unique and pratical features could be profitable in both markets. The App Store showed an oversaturation of fun apps, such as games and entertainment, but pratical apps brought in the most reviews. In the Google Play store, productivity apps average ~3.4 million installs even with Microsoft and G Suite apps removed from the analysis. A well-designed scheduling app with unique features could potentially stand out in both markets, and would generate ad revenue because users would frequently open it and use it for several minutes at a time."
   ]
  }
 ],
 "metadata": {
  "kernelspec": {
   "display_name": "Python 3 (ipykernel)",
   "language": "python",
   "name": "python3"
  },
  "language_info": {
   "codemirror_mode": {
    "name": "ipython",
    "version": 3
   },
   "file_extension": ".py",
   "mimetype": "text/x-python",
   "name": "python",
   "nbconvert_exporter": "python",
   "pygments_lexer": "ipython3",
   "version": "3.9.13"
  }
 },
 "nbformat": 4,
 "nbformat_minor": 5
}
